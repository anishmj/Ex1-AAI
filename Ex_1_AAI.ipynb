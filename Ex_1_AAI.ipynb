{
  "nbformat": 4,
  "nbformat_minor": 0,
  "metadata": {
    "colab": {
      "private_outputs": true,
      "provenance": []
    },
    "kernelspec": {
      "name": "python3",
      "display_name": "Python 3"
    },
    "language_info": {
      "name": "python"
    }
  },
  "cells": [
    {
      "cell_type": "code",
      "source": [
        "pip install pybbn"
      ],
      "metadata": {
        "id": "O0rrxcSOmcnM"
      },
      "execution_count": null,
      "outputs": []
    },
    {
      "cell_type": "code",
      "execution_count": null,
      "metadata": {
        "id": "wPacF8tUldWh"
      },
      "outputs": [],
      "source": [
        "import networkx as nx\n",
        "import pandas as pd\n",
        "import matplotlib.pyplot as plt\n",
        "from pybbn.graph.dag import Bbn\n",
        "from pybbn.graph.dag import Edge,EdgeType\n",
        "from pybbn.graph.jointree import EvidenceBuilder\n",
        "from pybbn.graph.node import BbnNode\n",
        "from pybbn.graph.variable import Variable\n",
        "from pybbn.pptc.inferencecontroller import InferenceController\n",
        "pd.options.display.max_columns=50"
      ]
    },
    {
      "cell_type": "code",
      "source": [
        "df=pd.read_csv('weatherAUS.csv',encoding='utf-8')\n",
        "df=df[pd.isnull(df['RainTomorrow'])==False]"
      ],
      "metadata": {
        "id": "oEcm-Dn5mb42"
      },
      "execution_count": null,
      "outputs": []
    },
    {
      "cell_type": "code",
      "source": [
        "df=df.fillna(df.mean())"
      ],
      "metadata": {
        "id": "nja5mdwYlnBN"
      },
      "execution_count": null,
      "outputs": []
    },
    {
      "cell_type": "code",
      "source": [
        "df['WindGustSpeedCat']=df['WindGustSpeed'].apply(lambda x: '0.<=40'   if x<=40 else '1.40-50' if 40<x<=50 else '2.>50')\n",
        "df['Humidity9amCat']=df['Humidity9am'].apply(lambda x: '1.>60' if x>60 else '0.<=60')\n",
        "df['Humidity3pmCat']=df['Humidity3pm'].apply(lambda x: '1.>60' if x>60 else '0.<=60')\n",
        "print(df)"
      ],
      "metadata": {
        "id": "nA9dP8evooQV"
      },
      "execution_count": null,
      "outputs": []
    },
    {
      "cell_type": "code",
      "source": [
        "def probs(data, child, parent1=None, parent2=None):\n",
        "    if parent1==None:\n",
        "        # Calculate probabilities\n",
        "        prob=pd.crosstab(data[child], 'Empty', margins=False, normalize='columns').sort_index().to_numpy().reshape(-1).tolist()\n",
        "    elif parent1!=None:\n",
        "            # Check if child node has 1 parent or 2 parents\n",
        "            if parent2==None:\n",
        "                # Caclucate probabilities\n",
        "                prob=pd.crosstab(data[parent1],data[child], margins=False, normalize='index').sort_index().to_numpy().reshape(-1).tolist()\n",
        "            else:\n",
        "                # Caclucate probabilities\n",
        "                prob=pd.crosstab([data[parent1],data[parent2]],data[child], margins=False, normalize='index').sort_index().to_numpy().reshape(-1).tolist()\n",
        "    else: print(\"Error in Probability Frequency Calculations\")\n",
        "    return prob"
      ],
      "metadata": {
        "id": "LcpoNP18orph"
      },
      "execution_count": null,
      "outputs": []
    },
    {
      "cell_type": "code",
      "source": [
        "H9am = BbnNode(Variable(0, 'H9am', ['<=60', '>60']), probs(df, child='Humidity9amCat'))\n",
        "H3pm = BbnNode(Variable(1, 'H3pm', ['<=60', '>60']), probs(df, child='Humidity3pmCat', parent1='Humidity9amCat'))\n",
        "W = BbnNode(Variable(2, 'W', ['<=40', '40-50', '>50']), probs(df, child='WindGustSpeedCat'))\n",
        "RT = BbnNode(Variable(3, 'RT', ['No', 'Yes']), probs(df, child='RainTomorrow', parent1='Humidity3pmCat', parent2='WindGustSpeedCat'))"
      ],
      "metadata": {
        "id": "JpMlG0akos95"
      },
      "execution_count": null,
      "outputs": []
    },
    {
      "cell_type": "code",
      "source": [
        "bbn = Bbn() \\\n",
        "    .add_node(H9am) \\\n",
        "    .add_node(H3pm) \\\n",
        "    .add_node(W) \\\n",
        "    .add_node(RT) \\\n",
        "    .add_edge(Edge(H9am, H3pm, EdgeType.DIRECTED)) \\\n",
        "    .add_edge(Edge(H3pm, RT, EdgeType.DIRECTED)) \\\n",
        "    .add_edge(Edge(W, RT, EdgeType.DIRECTED))"
      ],
      "metadata": {
        "id": "GHWK4cVNoxDX"
      },
      "execution_count": null,
      "outputs": []
    },
    {
      "cell_type": "code",
      "source": [
        "join_tree = InferenceController.apply(bbn)"
      ],
      "metadata": {
        "id": "XpxBo3eHo2yW"
      },
      "execution_count": null,
      "outputs": []
    },
    {
      "cell_type": "code",
      "source": [
        "pos={0: (-1,0), 1: (-1, 0.5), 2: (1, 0), 3:(0,-0.5)}"
      ],
      "metadata": {
        "id": "b9NU2mUTo-fK"
      },
      "execution_count": null,
      "outputs": []
    },
    {
      "cell_type": "code",
      "source": [
        "options = {\n",
        "    \"font_size\": 16,\n",
        "    \"node_size\": 4000,\n",
        "    \"node_color\": \"pink\",\n",
        "    \"edgecolors\": \"blue\",\n",
        "    \"edge_color\": \"green\",\n",
        "    \"linewidths\": 5,\n",
        "    \"width\": 5,}"
      ],
      "metadata": {
        "id": "OtcLcAX1o_6Z"
      },
      "execution_count": null,
      "outputs": []
    },
    {
      "cell_type": "code",
      "source": [
        "n, d = bbn.to_nx_graph()\n",
        "nx.draw(n, with_labels=True, labels=d, pos=pos, **options)"
      ],
      "metadata": {
        "id": "uK8Vb8A-pDes"
      },
      "execution_count": null,
      "outputs": []
    },
    {
      "cell_type": "code",
      "source": [
        "ax = plt.gca()\n",
        "ax.margins(0.10)\n",
        "plt.axis(\"off\")\n",
        "plt.show()"
      ],
      "metadata": {
        "id": "7iGDTnkOpDl4"
      },
      "execution_count": null,
      "outputs": []
    }
  ]
}